{
 "cells": [
  {
   "cell_type": "code",
   "execution_count": 66,
   "id": "initial_id",
   "metadata": {
    "collapsed": true,
    "ExecuteTime": {
     "end_time": "2024-02-29T15:43:49.989456Z",
     "start_time": "2024-02-29T15:43:49.985945Z"
    }
   },
   "outputs": [],
   "source": [
    "from marko import Markdown\n",
    "\n",
    "markdown = Markdown(extensions=['footnote'])"
   ]
  },
  {
   "cell_type": "code",
   "outputs": [],
   "source": [
    "from tidylib import tidy_document\n",
    "\n",
    "\n",
    "def validate_html(data: str):\n",
    "    document, errors = tidy_document(data, options={'numeric-entities': 1})\n",
    "    if errors:\n",
    "        print(errors)"
   ],
   "metadata": {
    "collapsed": false,
    "ExecuteTime": {
     "end_time": "2024-02-29T15:43:49.995011Z",
     "start_time": "2024-02-29T15:43:49.991922Z"
    }
   },
   "id": "65a450840c9f0163",
   "execution_count": 67
  },
  {
   "cell_type": "code",
   "outputs": [
    {
     "name": "stdout",
     "output_type": "stream",
     "text": [
      "line 1 column 1 - Warning: missing <!DOCTYPE> declaration\n",
      "line 1 column 1 - Warning: inserting missing 'title' element\n"
     ]
    }
   ],
   "source": [
    "text = 'Foo[^1]\\n\\n[^1]: This is a footnote.\\n'\n",
    "# text = 'Foo[^\\t!!]\\n\\n[^\\t!!]: This is a footnote.\\n'  # TIMEOUT\n",
    "validate_html(markdown(text))"
   ],
   "metadata": {
    "collapsed": false,
    "ExecuteTime": {
     "end_time": "2024-02-29T15:43:49.999671Z",
     "start_time": "2024-02-29T15:43:49.996200Z"
    }
   },
   "id": "bb277708d5aec7af",
   "execution_count": 68
  },
  {
   "cell_type": "code",
   "outputs": [
    {
     "name": "stdout",
     "output_type": "stream",
     "text": [
      "line 1 column 1 - Warning: missing <!DOCTYPE> declaration\n",
      "line 1 column 1 - Warning: inserting missing 'title' element\n"
     ]
    }
   ],
   "source": [
    "text = \"\"\"\n",
    "This first line uses the link [here][\\tlink]\n",
    "\n",
    "This second line uses the link [as well][link]\n",
    "\n",
    "[link]: https://www.example.com \"0QGu\\\\\\n\"\n",
    "\"\"\"\n",
    "validate_html(markdown(text))"
   ],
   "metadata": {
    "collapsed": false,
    "ExecuteTime": {
     "end_time": "2024-02-29T15:43:50.004149Z",
     "start_time": "2024-02-29T15:43:50.000778Z"
    }
   },
   "id": "52570d048a2f3b3f",
   "execution_count": 69
  },
  {
   "cell_type": "code",
   "outputs": [],
   "source": [],
   "metadata": {
    "collapsed": false,
    "ExecuteTime": {
     "end_time": "2024-02-29T15:43:50.007064Z",
     "start_time": "2024-02-29T15:43:50.005592Z"
    }
   },
   "id": "c23411af9446b2cc",
   "execution_count": 69
  }
 ],
 "metadata": {
  "kernelspec": {
   "display_name": "Python 3",
   "language": "python",
   "name": "python3"
  },
  "language_info": {
   "codemirror_mode": {
    "name": "ipython",
    "version": 2
   },
   "file_extension": ".py",
   "mimetype": "text/x-python",
   "name": "python",
   "nbconvert_exporter": "python",
   "pygments_lexer": "ipython2",
   "version": "2.7.6"
  }
 },
 "nbformat": 4,
 "nbformat_minor": 5
}
